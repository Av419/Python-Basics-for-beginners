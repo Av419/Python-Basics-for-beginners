{
  "nbformat": 4,
  "nbformat_minor": 0,
  "metadata": {
    "colab": {
      "provenance": [],
      "mount_file_id": "1EFVl4SNsFJ2i6enKO-FKce4hUFhdxkpW",
      "authorship_tag": "ABX9TyPXE6agcAUUOexhvR5cbuKM",
      "include_colab_link": true
    },
    "kernelspec": {
      "name": "python3",
      "display_name": "Python 3"
    },
    "language_info": {
      "name": "python"
    }
  },
  "cells": [
    {
      "cell_type": "markdown",
      "metadata": {
        "id": "view-in-github",
        "colab_type": "text"
      },
      "source": [
        "<a href=\"https://colab.research.google.com/github/Av419/Python-Basics-for-beginners/blob/main/Python_Basics_week_1.ipynb\" target=\"_parent\"><img src=\"https://colab.research.google.com/assets/colab-badge.svg\" alt=\"Open In Colab\"/></a>"
      ]
    },
    {
      "cell_type": "markdown",
      "source": [
        "## Mathematical operators"
      ],
      "metadata": {
        "id": "v30h87VyQzYB"
      }
    },
    {
      "cell_type": "code",
      "source": [
        "5//2"
      ],
      "metadata": {
        "colab": {
          "base_uri": "https://localhost:8080/"
        },
        "id": "aQihMU0KQ5T5",
        "outputId": "2e7e0648-9a2e-40da-c693-a6b2e7b8a42e"
      },
      "execution_count": null,
      "outputs": [
        {
          "output_type": "execute_result",
          "data": {
            "text/plain": [
              "2"
            ]
          },
          "metadata": {},
          "execution_count": 1
        }
      ]
    },
    {
      "cell_type": "code",
      "source": [
        "5/2"
      ],
      "metadata": {
        "colab": {
          "base_uri": "https://localhost:8080/"
        },
        "id": "ovxSi61yRBiZ",
        "outputId": "8cadc87c-6522-4fa9-c71a-660d7820d64d"
      },
      "execution_count": null,
      "outputs": [
        {
          "output_type": "execute_result",
          "data": {
            "text/plain": [
              "2.5"
            ]
          },
          "metadata": {},
          "execution_count": 2
        }
      ]
    },
    {
      "cell_type": "code",
      "source": [
        "5%2"
      ],
      "metadata": {
        "colab": {
          "base_uri": "https://localhost:8080/"
        },
        "id": "0_HjucB9RGqY",
        "outputId": "8f8940a6-79d4-438a-dfa2-c6c349656dfb"
      },
      "execution_count": null,
      "outputs": [
        {
          "output_type": "execute_result",
          "data": {
            "text/plain": [
              "1"
            ]
          },
          "metadata": {},
          "execution_count": 3
        }
      ]
    },
    {
      "cell_type": "code",
      "source": [
        "5**3"
      ],
      "metadata": {
        "colab": {
          "base_uri": "https://localhost:8080/"
        },
        "id": "Nqk5SvC2RJK5",
        "outputId": "66fec8d6-0500-48fa-c61e-2951d9bd911d"
      },
      "execution_count": null,
      "outputs": [
        {
          "output_type": "execute_result",
          "data": {
            "text/plain": [
              "125"
            ]
          },
          "metadata": {},
          "execution_count": 4
        }
      ]
    },
    {
      "cell_type": "markdown",
      "source": [
        "## Data Types"
      ],
      "metadata": {
        "id": "ibb6usmlRhe0"
      }
    },
    {
      "cell_type": "code",
      "source": [
        "var = \"Aviral\"\n",
        "type(var)"
      ],
      "metadata": {
        "colab": {
          "base_uri": "https://localhost:8080/"
        },
        "id": "N_GCBgpORkaG",
        "outputId": "1830d5ba-5e52-4d82-c0bd-77c06738111a"
      },
      "execution_count": null,
      "outputs": [
        {
          "output_type": "execute_result",
          "data": {
            "text/plain": [
              "str"
            ]
          },
          "metadata": {},
          "execution_count": 8
        }
      ]
    },
    {
      "cell_type": "markdown",
      "source": [
        "## Anything in double qoutes is considered as a string in Python"
      ],
      "metadata": {
        "id": "ZASRfRpjVubf"
      }
    },
    {
      "cell_type": "code",
      "source": [
        "var = \"100\"\n",
        "type(var)"
      ],
      "metadata": {
        "colab": {
          "base_uri": "https://localhost:8080/"
        },
        "id": "a4_DbqqxVdqL",
        "outputId": "8520c2b2-4595-400f-bbe4-4372991fedb0"
      },
      "execution_count": null,
      "outputs": [
        {
          "output_type": "execute_result",
          "data": {
            "text/plain": [
              "str"
            ]
          },
          "metadata": {},
          "execution_count": 10
        }
      ]
    },
    {
      "cell_type": "markdown",
      "source": [
        "## String Concatenation"
      ],
      "metadata": {
        "id": "YktyszYXXXoH"
      }
    },
    {
      "cell_type": "code",
      "source": [
        "\"Hello\" + \"World\""
      ],
      "metadata": {
        "colab": {
          "base_uri": "https://localhost:8080/",
          "height": 35
        },
        "id": "AhI-Sp9nXbZw",
        "outputId": "7fe2c72e-da49-461c-9b7c-3a2b688ec24a"
      },
      "execution_count": null,
      "outputs": [
        {
          "output_type": "execute_result",
          "data": {
            "text/plain": [
              "'HelloWorld'"
            ],
            "application/vnd.google.colaboratory.intrinsic+json": {
              "type": "string"
            }
          },
          "metadata": {},
          "execution_count": 11
        }
      ]
    },
    {
      "cell_type": "markdown",
      "source": [
        "## String Replication"
      ],
      "metadata": {
        "id": "rs5XCFqTXmCy"
      }
    },
    {
      "cell_type": "code",
      "source": [
        "\"Hello\" * 5"
      ],
      "metadata": {
        "colab": {
          "base_uri": "https://localhost:8080/",
          "height": 35
        },
        "id": "_w6gbDcfXpeu",
        "outputId": "7b38c932-17c7-4849-e951-1860111de8ab"
      },
      "execution_count": null,
      "outputs": [
        {
          "output_type": "execute_result",
          "data": {
            "text/plain": [
              "'HelloHelloHelloHelloHello'"
            ],
            "application/vnd.google.colaboratory.intrinsic+json": {
              "type": "string"
            }
          },
          "metadata": {},
          "execution_count": 12
        }
      ]
    },
    {
      "cell_type": "markdown",
      "source": [
        "## Naming convention of a Variable"
      ],
      "metadata": {
        "id": "h96UfPmpc0XL"
      }
    },
    {
      "cell_type": "code",
      "source": [
        "variable = 5\n",
        "print(variable)"
      ],
      "metadata": {
        "colab": {
          "base_uri": "https://localhost:8080/"
        },
        "id": "6XVVpYFuc75x",
        "outputId": "42c60e87-bf6b-4a91-c263-d9fc142afaa4"
      },
      "execution_count": null,
      "outputs": [
        {
          "output_type": "stream",
          "name": "stdout",
          "text": [
            "5\n"
          ]
        }
      ]
    },
    {
      "cell_type": "code",
      "source": [
        "variable9 = 5\n",
        "print(variable9)"
      ],
      "metadata": {
        "colab": {
          "base_uri": "https://localhost:8080/"
        },
        "id": "otp5GvyrdMz6",
        "outputId": "88699d6e-0a46-41f0-9824-5225a19a682e"
      },
      "execution_count": null,
      "outputs": [
        {
          "output_type": "stream",
          "name": "stdout",
          "text": [
            "5\n"
          ]
        }
      ]
    },
    {
      "cell_type": "code",
      "source": [
        "aviral_var = \"Aviral\"\n",
        "print(aviral_var)"
      ],
      "metadata": {
        "colab": {
          "base_uri": "https://localhost:8080/"
        },
        "id": "HhCAJ4H6dbs-",
        "outputId": "15ee64de-66be-40b5-b3cf-5785002a0cd4"
      },
      "execution_count": null,
      "outputs": [
        {
          "output_type": "stream",
          "name": "stdout",
          "text": [
            "Aviral\n"
          ]
        }
      ]
    },
    {
      "cell_type": "markdown",
      "source": [
        "## print() prints a blank space in between two loc"
      ],
      "metadata": {
        "id": "2OaFALYmefR1"
      }
    },
    {
      "cell_type": "code",
      "source": [
        "print(5)\n",
        "print()\n",
        "print(6)"
      ],
      "metadata": {
        "colab": {
          "base_uri": "https://localhost:8080/"
        },
        "id": "j1FHB02DeV4b",
        "outputId": "6c082693-8807-49a2-ee18-9c870dc84cd1"
      },
      "execution_count": null,
      "outputs": [
        {
          "output_type": "stream",
          "name": "stdout",
          "text": [
            "5\n",
            "\n",
            "6\n"
          ]
        }
      ]
    },
    {
      "cell_type": "markdown",
      "source": [
        "## Built in Functions in Python"
      ],
      "metadata": {
        "id": "8-HZXEttjLUI"
      }
    },
    {
      "cell_type": "code",
      "source": [
        "print(9)"
      ],
      "metadata": {
        "colab": {
          "base_uri": "https://localhost:8080/"
        },
        "id": "qcEEcNx9jRNF",
        "outputId": "79439e8b-f068-4eb2-9808-1b6486d4f6db"
      },
      "execution_count": null,
      "outputs": [
        {
          "output_type": "stream",
          "name": "stdout",
          "text": [
            "9\n"
          ]
        }
      ]
    },
    {
      "cell_type": "code",
      "source": [
        "name = input(\"What is your name :\")\n",
        "print(name)"
      ],
      "metadata": {
        "colab": {
          "base_uri": "https://localhost:8080/"
        },
        "id": "BJpD1HvPjWQf",
        "outputId": "f103c003-30b2-461f-929d-62689f8984df"
      },
      "execution_count": null,
      "outputs": [
        {
          "output_type": "stream",
          "name": "stdout",
          "text": [
            "What is your name :Aviral\n",
            "Aviral\n"
          ]
        }
      ]
    },
    {
      "cell_type": "code",
      "source": [
        "int('9')\n"
      ],
      "metadata": {
        "colab": {
          "base_uri": "https://localhost:8080/"
        },
        "id": "7dAIpnC7lGzP",
        "outputId": "d49faa2f-5678-41bf-ffd3-16556ea86c13"
      },
      "execution_count": null,
      "outputs": [
        {
          "output_type": "execute_result",
          "data": {
            "text/plain": [
              "9"
            ]
          },
          "metadata": {},
          "execution_count": 26
        }
      ]
    },
    {
      "cell_type": "code",
      "source": [
        "len(\"Ambush\")"
      ],
      "metadata": {
        "colab": {
          "base_uri": "https://localhost:8080/"
        },
        "id": "aICz9lZuoAF0",
        "outputId": "53c8ca51-c9fc-47b5-c32f-c72558386eb0"
      },
      "execution_count": null,
      "outputs": [
        {
          "output_type": "execute_result",
          "data": {
            "text/plain": [
              "6"
            ]
          },
          "metadata": {},
          "execution_count": 30
        }
      ]
    },
    {
      "cell_type": "markdown",
      "source": [
        "## Flow Controls : Boolean operators"
      ],
      "metadata": {
        "id": "8n3ZSe3fUgEu"
      }
    },
    {
      "cell_type": "code",
      "source": [
        "5==5"
      ],
      "metadata": {
        "colab": {
          "base_uri": "https://localhost:8080/"
        },
        "id": "9emwrrelUlIF",
        "outputId": "22beb14f-35fa-481b-92ee-b7944102934b"
      },
      "execution_count": null,
      "outputs": [
        {
          "output_type": "execute_result",
          "data": {
            "text/plain": [
              "True"
            ]
          },
          "metadata": {},
          "execution_count": 1
        }
      ]
    },
    {
      "cell_type": "code",
      "source": [
        "True or True"
      ],
      "metadata": {
        "colab": {
          "base_uri": "https://localhost:8080/"
        },
        "id": "KY1yJNVXUrJz",
        "outputId": "c9ba8e25-bb1b-4c2b-86f7-250ff58f3441"
      },
      "execution_count": null,
      "outputs": [
        {
          "output_type": "execute_result",
          "data": {
            "text/plain": [
              "True"
            ]
          },
          "metadata": {},
          "execution_count": 2
        }
      ]
    },
    {
      "cell_type": "code",
      "source": [
        "not False"
      ],
      "metadata": {
        "colab": {
          "base_uri": "https://localhost:8080/"
        },
        "id": "zfBDgylAUxUy",
        "outputId": "5b1747d0-1dcb-493d-f157-70e3699d6a01"
      },
      "execution_count": null,
      "outputs": [
        {
          "output_type": "execute_result",
          "data": {
            "text/plain": [
              "True"
            ]
          },
          "metadata": {},
          "execution_count": 3
        }
      ]
    },
    {
      "cell_type": "markdown",
      "source": [
        "## IF ELSE Statements"
      ],
      "metadata": {
        "id": "nQV3xMG2XBDc"
      }
    },
    {
      "cell_type": "code",
      "source": [
        "num = 6\n",
        "if num<20:\n",
        "  print(\"True\")\n",
        "else:\n",
        "  print(\"False\")"
      ],
      "metadata": {
        "colab": {
          "base_uri": "https://localhost:8080/"
        },
        "id": "PuWnC3unXF-P",
        "outputId": "1ee54e26-db0c-4402-af20-0eac63d56e9b"
      },
      "execution_count": null,
      "outputs": [
        {
          "output_type": "stream",
          "name": "stdout",
          "text": [
            "True\n"
          ]
        }
      ]
    },
    {
      "cell_type": "markdown",
      "source": [
        "## while loop"
      ],
      "metadata": {
        "id": "4vnnb-N_y_Jh"
      }
    },
    {
      "cell_type": "code",
      "source": [
        "val = 0\n",
        "while val<5:\n",
        "  print(\"True\")\n",
        "  val=val+1\n",
        "print(\"End Loop\")"
      ],
      "metadata": {
        "colab": {
          "base_uri": "https://localhost:8080/"
        },
        "id": "lf3epfWezB2J",
        "outputId": "56b698ac-f981-4552-859b-b46e47649322"
      },
      "execution_count": null,
      "outputs": [
        {
          "output_type": "stream",
          "name": "stdout",
          "text": [
            "True\n",
            "True\n",
            "True\n",
            "True\n",
            "True\n",
            "End Loop\n"
          ]
        }
      ]
    },
    {
      "cell_type": "markdown",
      "source": [
        "## For Loop"
      ],
      "metadata": {
        "id": "wBU8Wuhm27hT"
      }
    },
    {
      "cell_type": "code",
      "source": [
        "for i in range(5):\n",
        "  print(\"best \"+ str(i))"
      ],
      "metadata": {
        "colab": {
          "base_uri": "https://localhost:8080/"
        },
        "id": "XFIp7onj29t9",
        "outputId": "978acfa9-d4a4-4be7-822b-67afc3bd76bf"
      },
      "execution_count": null,
      "outputs": [
        {
          "output_type": "stream",
          "name": "stdout",
          "text": [
            "best 0\n",
            "best 1\n",
            "best 2\n",
            "best 3\n",
            "best 4\n"
          ]
        }
      ]
    },
    {
      "cell_type": "code",
      "source": [
        "for i in range(10,21,2):\n",
        "  print(i)"
      ],
      "metadata": {
        "colab": {
          "base_uri": "https://localhost:8080/"
        },
        "id": "QFu2BeMC4ce6",
        "outputId": "66c06217-9aac-4e9a-8459-39f5f0a9b001"
      },
      "execution_count": null,
      "outputs": [
        {
          "output_type": "stream",
          "name": "stdout",
          "text": [
            "10\n",
            "12\n",
            "14\n",
            "16\n",
            "18\n",
            "20\n"
          ]
        }
      ]
    },
    {
      "cell_type": "markdown",
      "source": [
        "## Break Statement"
      ],
      "metadata": {
        "id": "Qp4MUuTm82ZE"
      }
    },
    {
      "cell_type": "code",
      "source": [
        "for i in range(20):\n",
        "  if i%2==0:\n",
        "    if i==10:\n",
        "      break\n",
        "    print(i)"
      ],
      "metadata": {
        "colab": {
          "base_uri": "https://localhost:8080/"
        },
        "id": "iWi7pTDt87Q7",
        "outputId": "e109d338-fa74-49db-d2ec-bb523525588f"
      },
      "execution_count": null,
      "outputs": [
        {
          "output_type": "stream",
          "name": "stdout",
          "text": [
            "0\n",
            "2\n",
            "4\n",
            "6\n",
            "8\n"
          ]
        }
      ]
    },
    {
      "cell_type": "markdown",
      "source": [
        "## Continue Statement\n",
        "## end=\" \" statement prints the output in the same line ."
      ],
      "metadata": {
        "id": "UZfTRAmH92SP"
      }
    },
    {
      "cell_type": "code",
      "source": [
        "for i in range(20):\n",
        "  if i%2==0:\n",
        "    continue\n",
        "  print(i,end=\" \")"
      ],
      "metadata": {
        "colab": {
          "base_uri": "https://localhost:8080/"
        },
        "id": "UGzwN-Do95X5",
        "outputId": "30931220-71fe-4486-cf5e-a0efa78d2b63"
      },
      "execution_count": null,
      "outputs": [
        {
          "output_type": "stream",
          "name": "stdout",
          "text": [
            "1 3 5 7 9 11 13 15 17 19 "
          ]
        }
      ]
    },
    {
      "cell_type": "markdown",
      "source": [
        "## Defining a Function:"
      ],
      "metadata": {
        "id": "3Owu4u_zCdrU"
      }
    },
    {
      "cell_type": "code",
      "source": [
        "def hello():\n",
        "  print(\"Hey\")\n",
        "  print(\"Hey There !\")\n"
      ],
      "metadata": {
        "id": "KZJQLZwOCj58"
      },
      "execution_count": null,
      "outputs": []
    },
    {
      "cell_type": "markdown",
      "source": [
        "## Calling a function : it will not print the output without calling the function explicitly."
      ],
      "metadata": {
        "id": "QVZQPyPCC2-M"
      }
    },
    {
      "cell_type": "code",
      "source": [
        "hello()"
      ],
      "metadata": {
        "colab": {
          "base_uri": "https://localhost:8080/"
        },
        "id": "8L4bYJsfDTAV",
        "outputId": "2e9fe660-2c93-4adb-c3eb-c5f4bf09c299"
      },
      "execution_count": null,
      "outputs": [
        {
          "output_type": "stream",
          "name": "stdout",
          "text": [
            "Hey\n",
            "Hey There !\n"
          ]
        }
      ]
    },
    {
      "cell_type": "markdown",
      "source": [
        "## Def Statements with Parameters"
      ],
      "metadata": {
        "id": "bb3_ibkmFVlL"
      }
    },
    {
      "cell_type": "code",
      "source": [
        "def add(num_1,num_2):\n",
        "  print(num_1 + num_2)\n",
        "\n",
        "\n",
        "add(5,5)"
      ],
      "metadata": {
        "colab": {
          "base_uri": "https://localhost:8080/"
        },
        "id": "9YTIWvsEFdBG",
        "outputId": "2bae2c37-35f8-4e07-fe4a-121e55fc2c5a"
      },
      "execution_count": null,
      "outputs": [
        {
          "output_type": "stream",
          "name": "stdout",
          "text": [
            "10\n"
          ]
        }
      ]
    },
    {
      "cell_type": "code",
      "source": [
        "def demo(val):\n",
        "  return val,val+1,val+2\n",
        "\n",
        "demo(val=5)"
      ],
      "metadata": {
        "colab": {
          "base_uri": "https://localhost:8080/"
        },
        "id": "v_0S8EWCP0YN",
        "outputId": "e024741b-8e52-48ff-f72e-9a134047b0a2"
      },
      "execution_count": null,
      "outputs": [
        {
          "output_type": "execute_result",
          "data": {
            "text/plain": [
              "(5, 6, 7)"
            ]
          },
          "metadata": {},
          "execution_count": 13
        }
      ]
    },
    {
      "cell_type": "markdown",
      "source": [
        "## Strings"
      ],
      "metadata": {
        "id": "9XsW8yGSiaRI"
      }
    },
    {
      "cell_type": "code",
      "source": [
        "name=\"Prepinsta\"\n",
        "for i in name:\n",
        "  print(\"# # # # \" + i + \" # # # #\")"
      ],
      "metadata": {
        "colab": {
          "base_uri": "https://localhost:8080/"
        },
        "id": "Z-TxBe4iK4iP",
        "outputId": "44720837-821f-43a0-ccf3-11253b7da2f6"
      },
      "execution_count": null,
      "outputs": [
        {
          "output_type": "stream",
          "name": "stdout",
          "text": [
            "# # # # P # # # #\n",
            "# # # # r # # # #\n",
            "# # # # e # # # #\n",
            "# # # # p # # # #\n",
            "# # # # i # # # #\n",
            "# # # # n # # # #\n",
            "# # # # s # # # #\n",
            "# # # # t # # # #\n",
            "# # # # a # # # #\n"
          ]
        }
      ]
    },
    {
      "cell_type": "code",
      "source": [
        "def add(a,b):\n",
        "  sum=a+b\n",
        "  print(sum)\n",
        "\n",
        "add(a=4,b=4)"
      ],
      "metadata": {
        "colab": {
          "base_uri": "https://localhost:8080/"
        },
        "id": "zxoyqk6miWZ6",
        "outputId": "c4b78a5a-407d-4e46-bd6b-18e5025f9825"
      },
      "execution_count": 8,
      "outputs": [
        {
          "output_type": "stream",
          "name": "stdout",
          "text": [
            "8\n"
          ]
        }
      ]
    },
    {
      "cell_type": "code",
      "source": [
        "print(\"aviral\",\"anand\",sep=\"@\")\n",
        "#seperator is pre defined in print function\n"
      ],
      "metadata": {
        "colab": {
          "base_uri": "https://localhost:8080/"
        },
        "id": "2zvyUNGcIJLn",
        "outputId": "5e2a5b94-9940-46fc-9133-0e42e5f2b100"
      },
      "execution_count": 13,
      "outputs": [
        {
          "output_type": "stream",
          "name": "stdout",
          "text": [
            "aviral@anand\n"
          ]
        }
      ]
    },
    {
      "cell_type": "code",
      "source": [
        "## write a function to print the element of a list, list = parameter\n",
        "list = [\"avi\",\"ana\",\"rahul\",\"tina\"]\n",
        "def element_list(list):\n",
        "  for i in list:\n",
        "    print(i,end=\" \")\n",
        "\n",
        "\n",
        "\n",
        "element_list(list)\n",
        ""
      ],
      "metadata": {
        "colab": {
          "base_uri": "https://localhost:8080/"
        },
        "id": "lB50MgfKKjKs",
        "outputId": "52616e2a-d601-43be-af34-a70fc44e7534"
      },
      "execution_count": 14,
      "outputs": [
        {
          "output_type": "stream",
          "name": "stdout",
          "text": [
            "avi ana rahul tina "
          ]
        }
      ]
    },
    {
      "cell_type": "code",
      "source": [
        "## write a function to print the odd and even numbers\n",
        "\n",
        "def odd_even(num):\n",
        "  if num%2==0:\n",
        "    print(\"even\")\n",
        "  else:\n",
        "    print(\"odd\")\n",
        "  return num\n",
        "\n",
        "odd_even(8)\n",
        ""
      ],
      "metadata": {
        "colab": {
          "base_uri": "https://localhost:8080/"
        },
        "id": "mkDRb15pjk7u",
        "outputId": "10441caa-5805-4eb8-cc0c-d65ffee8bdc8"
      },
      "execution_count": 17,
      "outputs": [
        {
          "output_type": "stream",
          "name": "stdout",
          "text": [
            "even\n"
          ]
        },
        {
          "output_type": "execute_result",
          "data": {
            "text/plain": [
              "8"
            ]
          },
          "metadata": {},
          "execution_count": 17
        }
      ]
    },
    {
      "cell_type": "code",
      "source": [
        "## write a function to print prime or composite numbers\n",
        "def prime_composite(num):\n",
        "  flag=0\n",
        "  for i in range(2,num):\n",
        "    if num%i==0:\n",
        "        flag=flag+1\n",
        "        break\n",
        "  if flag==0:\n",
        "    print(\"Prime\")\n",
        "  else:\n",
        "    print(\"composite\")\n",
        "\n",
        "prime_composite(8)\n"
      ],
      "metadata": {
        "colab": {
          "base_uri": "https://localhost:8080/"
        },
        "id": "lG2ONi_Pkhlk",
        "outputId": "cedf5f94-3693-46d1-dc1f-89229e65cd31"
      },
      "execution_count": 20,
      "outputs": [
        {
          "output_type": "stream",
          "name": "stdout",
          "text": [
            "composite\n"
          ]
        }
      ]
    },
    {
      "cell_type": "markdown",
      "source": [
        "## Recursion"
      ],
      "metadata": {
        "id": "HPgbBHiHrATv"
      }
    },
    {
      "cell_type": "code",
      "source": [
        "## write a function to print 5,4,3,2,1 backwards\n",
        "def show(n):\n",
        "  if n==0:\n",
        "    return\n",
        "  print(n)\n",
        "  show(n-1)\n",
        "\n",
        "show(5)\n"
      ],
      "metadata": {
        "colab": {
          "base_uri": "https://localhost:8080/"
        },
        "id": "yH9bg5P-q_lb",
        "outputId": "0f2b5807-f096-49f1-d173-b479fb947668"
      },
      "execution_count": 21,
      "outputs": [
        {
          "output_type": "stream",
          "name": "stdout",
          "text": [
            "5\n",
            "4\n",
            "3\n",
            "2\n",
            "1\n"
          ]
        }
      ]
    }
  ]
}