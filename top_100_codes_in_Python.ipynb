{
  "nbformat": 4,
  "nbformat_minor": 0,
  "metadata": {
    "colab": {
      "provenance": [],
      "authorship_tag": "ABX9TyPReg0OGxRCXwq6pBAh27U2",
      "include_colab_link": true
    },
    "kernelspec": {
      "name": "python3",
      "display_name": "Python 3"
    },
    "language_info": {
      "name": "python"
    }
  },
  "cells": [
    {
      "cell_type": "markdown",
      "metadata": {
        "id": "view-in-github",
        "colab_type": "text"
      },
      "source": [
        "<a href=\"https://colab.research.google.com/github/Av419/Python-Basics-for-beginners/blob/main/top_100_codes_in_Python.ipynb\" target=\"_parent\"><img src=\"https://colab.research.google.com/assets/colab-badge.svg\" alt=\"Open In Colab\"/></a>"
      ]
    },
    {
      "cell_type": "markdown",
      "source": [
        "## To check a number is +ve or -ve"
      ],
      "metadata": {
        "id": "r4L2bIlKQYd_"
      }
    },
    {
      "cell_type": "code",
      "execution_count": 3,
      "metadata": {
        "colab": {
          "base_uri": "https://localhost:8080/"
        },
        "id": "3izM7b-bQBXf",
        "outputId": "4383dbc3-257d-4ed2-cb27-d351a0be3ac3"
      },
      "outputs": [
        {
          "output_type": "stream",
          "name": "stdout",
          "text": [
            "-3\n",
            "-ve number\n"
          ]
        }
      ],
      "source": [
        "a= int(input())\n",
        "if a>0:\n",
        "  print(\"+ve number\")\n",
        "else:\n",
        "  print(\"-ve number\")"
      ]
    },
    {
      "cell_type": "markdown",
      "source": [
        "## to check a number is odd or even"
      ],
      "metadata": {
        "id": "z9yD2mfZRH2O"
      }
    },
    {
      "cell_type": "code",
      "source": [
        "a = int(input())\n",
        "if a%2==0:\n",
        "  print(\"even \")\n",
        "else:\n",
        "  print(\"odd\")"
      ],
      "metadata": {
        "colab": {
          "base_uri": "https://localhost:8080/"
        },
        "id": "7gTKcE4hRMY9",
        "outputId": "8418d6fa-4a43-4209-b90d-b31eb93d9ad6"
      },
      "execution_count": 4,
      "outputs": [
        {
          "output_type": "stream",
          "name": "stdout",
          "text": [
            "5\n",
            "odd\n"
          ]
        }
      ]
    },
    {
      "cell_type": "markdown",
      "source": [
        "## Sum of first n natural numbers"
      ],
      "metadata": {
        "id": "QKId-SEnRdNb"
      }
    },
    {
      "cell_type": "code",
      "source": [
        "n= int(input())\n",
        "sum = 0\n",
        "for i in range(1,n+1):\n",
        "  sum=sum+i\n",
        "  print(sum)\n"
      ],
      "metadata": {
        "colab": {
          "base_uri": "https://localhost:8080/"
        },
        "id": "AI6BQz2XRya9",
        "outputId": "fa05ed8d-7a9a-47bf-875c-dde454b0e858"
      },
      "execution_count": 5,
      "outputs": [
        {
          "output_type": "stream",
          "name": "stdout",
          "text": [
            "8\n",
            "1\n",
            "3\n",
            "6\n",
            "10\n",
            "15\n",
            "21\n",
            "28\n",
            "36\n"
          ]
        }
      ]
    },
    {
      "cell_type": "code",
      "source": [
        "sum=0\n",
        "for i in range(2,6):\n",
        "  sum=sum+i\n",
        "  print(sum,end=\" \")\n"
      ],
      "metadata": {
        "colab": {
          "base_uri": "https://localhost:8080/"
        },
        "id": "Njy_0qWFVc8m",
        "outputId": "9c154678-e269-4e62-9644-5dacce801195"
      },
      "execution_count": 7,
      "outputs": [
        {
          "output_type": "stream",
          "name": "stdout",
          "text": [
            "2 5 9 14 "
          ]
        }
      ]
    },
    {
      "cell_type": "markdown",
      "source": [
        "## Greatest of 2 numbers"
      ],
      "metadata": {
        "id": "TRWMivQmWffh"
      }
    },
    {
      "cell_type": "code",
      "source": [
        "a=int(input())\n",
        "b=int(input())\n",
        "if a>b:\n",
        "  print(a)\n",
        "else:\n",
        "  print(b)"
      ],
      "metadata": {
        "colab": {
          "base_uri": "https://localhost:8080/"
        },
        "id": "LfDGNHuDWkf_",
        "outputId": "a5e8b45f-6381-43ba-f0c1-bde614abf4ab"
      },
      "execution_count": 8,
      "outputs": [
        {
          "output_type": "stream",
          "name": "stdout",
          "text": [
            "20\n",
            "40\n",
            "40\n"
          ]
        }
      ]
    },
    {
      "cell_type": "markdown",
      "source": [
        "## Greatest of 3 numbers"
      ],
      "metadata": {
        "id": "bTdpnDZMXFCJ"
      }
    },
    {
      "cell_type": "code",
      "source": [
        "a=int(input())\n",
        "b=int(input())\n",
        "c=int(input())\n",
        "if a>b and a>c:\n",
        "  print(a)\n",
        "elif b>a and b>c:\n",
        "  print(b)\n",
        "else:\n",
        "  print(c)"
      ],
      "metadata": {
        "colab": {
          "base_uri": "https://localhost:8080/"
        },
        "id": "2_g8FMlDXJ3j",
        "outputId": "1a1e2983-5094-42e0-dc46-55db826d45cc"
      },
      "execution_count": 9,
      "outputs": [
        {
          "output_type": "stream",
          "name": "stdout",
          "text": [
            "5\n",
            "7\n",
            "9\n",
            "9\n"
          ]
        }
      ]
    },
    {
      "cell_type": "markdown",
      "source": [
        "## Leap Year code"
      ],
      "metadata": {
        "id": "Ink_P-suX4H0"
      }
    },
    {
      "cell_type": "code",
      "source": [],
      "metadata": {
        "id": "A_PyLz9hX9YJ"
      },
      "execution_count": null,
      "outputs": []
    }
  ]
}